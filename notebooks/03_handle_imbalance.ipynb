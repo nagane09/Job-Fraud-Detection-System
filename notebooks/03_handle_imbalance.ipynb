{
 "cells": [
  {
   "cell_type": "code",
   "execution_count": 41,
   "id": "906cb547",
   "metadata": {},
   "outputs": [],
   "source": [
    "from imblearn.over_sampling import SMOTENC\n",
    "from sklearn.model_selection import train_test_split\n",
    "import pandas as pd\n"
   ]
  },
  {
   "cell_type": "code",
   "execution_count": 42,
   "id": "2bdbb98c",
   "metadata": {},
   "outputs": [],
   "source": [
    "for col in categorical_cols:\n",
    "    if col in X_train.columns:\n",
    "        X_train[col] = X_train[col].astype(\"category\")\n",
    "        X_test[col] = X_test[col].astype(\"category\")\n"
   ]
  },
  {
   "cell_type": "code",
   "execution_count": 43,
   "id": "fab2d816",
   "metadata": {},
   "outputs": [
    {
     "name": "stdout",
     "output_type": "stream",
     "text": [
      "Categorical column indices: [5, 6, 7, 8, 9]\n"
     ]
    }
   ],
   "source": [
    "cat_indices = [X_train.columns.get_loc(col) for col in categorical_cols if col in X_train.columns]\n",
    "print(\"Categorical column indices:\", cat_indices)\n"
   ]
  },
  {
   "cell_type": "code",
   "execution_count": 44,
   "id": "9035ee97",
   "metadata": {},
   "outputs": [
    {
     "data": {
      "text/plain": [
       "title                  category\n",
       "location               category\n",
       "department             category\n",
       "description            category\n",
       "requirements           category\n",
       "employment_type        category\n",
       "required_experience    category\n",
       "required_education     category\n",
       "industry               category\n",
       "function               category\n",
       "all_text               category\n",
       "textblob_polarity       float64\n",
       "vader_neg               float64\n",
       "vader_neu               float64\n",
       "vader_pos               float64\n",
       "dtype: object"
      ]
     },
     "execution_count": 44,
     "metadata": {},
     "output_type": "execute_result"
    }
   ],
   "source": [
    "X_train.dtypes.head(15)\n"
   ]
  },
  {
   "cell_type": "code",
   "execution_count": 45,
   "id": "0e120712",
   "metadata": {},
   "outputs": [],
   "source": [
    "# All object columns you want to treat as categorical\n",
    "convert_to_cat = ['title', 'location', 'department', 'description', 'requirements', 'all_text']\n",
    "\n",
    "# Convert them to category dtype\n",
    "X_train[convert_to_cat] = X_train[convert_to_cat].astype('category')\n",
    "\n",
    "# Just in case, combine with the existing categorical_cols\n",
    "final_categorical_cols = convert_to_cat + [\n",
    "    'employment_type',\n",
    "    'required_experience',\n",
    "    'required_education',\n",
    "    'industry',\n",
    "    'function'\n",
    "]\n",
    "\n",
    "# Get categorical indices\n",
    "cat_indices = [X_train.columns.get_loc(col) for col in final_categorical_cols if col in X_train.columns]\n"
   ]
  },
  {
   "cell_type": "code",
   "execution_count": 46,
   "id": "d19a922f",
   "metadata": {},
   "outputs": [
    {
     "name": "stdout",
     "output_type": "stream",
     "text": [
      "✅ SMOTENC Resampling Done!\n",
      "Before: fraudulent\n",
      "0    2265\n",
      "1     158\n",
      "Name: count, dtype: int64\n",
      "After: fraudulent\n",
      "0    2265\n",
      "1    2265\n",
      "Name: count, dtype: int64\n"
     ]
    }
   ],
   "source": [
    "from imblearn.over_sampling import SMOTENC\n",
    "\n",
    "smote_nc = SMOTENC(categorical_features=cat_indices, random_state=42)\n",
    "X_resampled, y_resampled = smote_nc.fit_resample(X_train, y_train)\n",
    "\n",
    "print(\"✅ SMOTENC Resampling Done!\")\n",
    "print(\"Before:\", y_train.value_counts())\n",
    "print(\"After:\", pd.Series(y_resampled).value_counts())\n"
   ]
  },
  {
   "cell_type": "code",
   "execution_count": 48,
   "id": "dcd11435",
   "metadata": {},
   "outputs": [
    {
     "name": "stdout",
     "output_type": "stream",
     "text": [
      "✅ balanced_data.csv saved to data/processed/\n"
     ]
    }
   ],
   "source": [
    "# 📝 Combine resampled features and target into one DataFrame\n",
    "resampled_df = pd.concat([\n",
    "    pd.DataFrame(X_resampled, columns=X_train.columns),\n",
    "    pd.Series(y_resampled, name=\"fraudulent\")\n",
    "], axis=1)\n",
    "\n",
    "# 💾 Save the balanced data\n",
    "resampled_df.to_csv(\"../data/processed/balanced_data.csv\", index=False)\n",
    "print(\"✅ balanced_data.csv saved to data/processed/\")\n"
   ]
  },
  {
   "cell_type": "code",
   "execution_count": null,
   "id": "90fb2a1c",
   "metadata": {},
   "outputs": [],
   "source": []
  },
  {
   "cell_type": "code",
   "execution_count": null,
   "id": "b4b268d4",
   "metadata": {},
   "outputs": [],
   "source": []
  }
 ],
 "metadata": {
  "kernelspec": {
   "display_name": "base",
   "language": "python",
   "name": "python3"
  },
  "language_info": {
   "codemirror_mode": {
    "name": "ipython",
    "version": 3
   },
   "file_extension": ".py",
   "mimetype": "text/x-python",
   "name": "python",
   "nbconvert_exporter": "python",
   "pygments_lexer": "ipython3",
   "version": "3.13.5"
  }
 },
 "nbformat": 4,
 "nbformat_minor": 5
}
