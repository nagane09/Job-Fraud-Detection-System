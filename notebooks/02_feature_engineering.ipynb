{
 "cells": [
  {
   "cell_type": "code",
   "execution_count": 5,
   "id": "ebd8a78f",
   "metadata": {},
   "outputs": [
    {
     "name": "stderr",
     "output_type": "stream",
     "text": [
      "[nltk_data] Downloading package vader_lexicon to\n",
      "[nltk_data]     C:\\Users\\Admin\\AppData\\Roaming\\nltk_data...\n",
      "[nltk_data]   Package vader_lexicon is already up-to-date!\n"
     ]
    },
    {
     "data": {
      "text/plain": [
       "True"
      ]
     },
     "execution_count": 5,
     "metadata": {},
     "output_type": "execute_result"
    }
   ],
   "source": [
    "import nltk\n",
    "nltk.download('vader_lexicon')"
   ]
  },
  {
   "cell_type": "code",
   "execution_count": 6,
   "id": "2706bcaa",
   "metadata": {},
   "outputs": [],
   "source": [
    "# Imports\n",
    "import pandas as pd\n",
    "from textblob import TextBlob\n",
    "from vaderSentiment.vaderSentiment import SentimentIntensityAnalyzer\n",
    "\n",
    "# Load cleaned data\n",
    "df = pd.read_csv(\"../data/processed/cleaned_data.csv\")\n"
   ]
  },
  {
   "cell_type": "code",
   "execution_count": 7,
   "id": "6d4c554a",
   "metadata": {},
   "outputs": [],
   "source": [
    "# Combine multiple text columns into one\n",
    "df['all_text'] = df['title'] + \" \" + df['location'] + \" \" + \\\n",
    "                 df['department'] + \" \" + df['description'] + \" \" + df['requirements']\n"
   ]
  },
  {
   "cell_type": "code",
   "execution_count": 9,
   "id": "4fd7b1db",
   "metadata": {},
   "outputs": [],
   "source": [
    "# TextBlob sentiment polarity\n",
    "def get_textblob_sentiment(text):\n",
    "    return TextBlob(text).sentiment.polarity\n",
    "\n",
    "df['textblob_polarity'] = df['all_text'].astype(str).apply(get_textblob_sentiment)\n",
    "\n"
   ]
  },
  {
   "cell_type": "code",
   "execution_count": 10,
   "id": "d158bcca",
   "metadata": {},
   "outputs": [],
   "source": [
    "vader = SentimentIntensityAnalyzer()\n",
    "\n",
    "def get_vader_sentiment(text):\n",
    "    score = vader.polarity_scores(text)\n",
    "    return pd.Series([score['neg'], score['neu'], score['pos'], score['compound']])\n",
    "\n",
    "df[['vader_neg', 'vader_neu', 'vader_pos', 'vader_compound']] = df['all_text'].astype(str).apply(get_vader_sentiment)\n",
    "\n"
   ]
  },
  {
   "cell_type": "code",
   "execution_count": 12,
   "id": "3a637fe6",
   "metadata": {},
   "outputs": [],
   "source": [
    "df['all_text'] = df['all_text'].astype(str)  # Ensure all values are strings\n",
    "\n",
    "keywords = ['money', 'earn', 'click', 'investment', 'urgent', 'opportunity', 'work from home']\n",
    "\n",
    "for word in keywords:\n",
    "    df[f'keyword_{word}'] = df['all_text'].str.lower().apply(lambda x: 1 if word in x else 0)\n"
   ]
  },
  {
   "cell_type": "code",
   "execution_count": 13,
   "id": "4c8a617b",
   "metadata": {},
   "outputs": [
    {
     "name": "stdout",
     "output_type": "stream",
     "text": [
      "✅ Feature-engineered data saved!\n"
     ]
    }
   ],
   "source": [
    "df.to_csv(\"../data/processed/featured_data.csv\", index=False)\n",
    "print(\"✅ Feature-engineered data saved!\")\n"
   ]
  },
  {
   "cell_type": "code",
   "execution_count": null,
   "id": "c8d93607",
   "metadata": {},
   "outputs": [],
   "source": []
  }
 ],
 "metadata": {
  "kernelspec": {
   "display_name": "base",
   "language": "python",
   "name": "python3"
  },
  "language_info": {
   "codemirror_mode": {
    "name": "ipython",
    "version": 3
   },
   "file_extension": ".py",
   "mimetype": "text/x-python",
   "name": "python",
   "nbconvert_exporter": "python",
   "pygments_lexer": "ipython3",
   "version": "3.13.5"
  }
 },
 "nbformat": 4,
 "nbformat_minor": 5
}
